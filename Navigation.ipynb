{
 "cells": [
  {
   "cell_type": "code",
   "execution_count": 1,
   "metadata": {},
   "outputs": [
    {
     "name": "stderr",
     "output_type": "stream",
     "text": [
      "INFO:unityagents:\n",
      "'Academy' started successfully!\n",
      "Unity Academy name: Academy\n",
      "        Number of Brains: 1\n",
      "        Number of External Brains : 1\n",
      "        Lesson number : 0\n",
      "        Reset Parameters :\n",
      "\t\t\n",
      "Unity brain name: BananaBrain\n",
      "        Number of Visual Observations (per agent): 0\n",
      "        Vector Observation space type: continuous\n",
      "        Vector Observation space size (per agent): 37\n",
      "        Number of stacked Vector Observation: 1\n",
      "        Vector Action space type: discrete\n",
      "        Vector Action space size (per agent): 4\n",
      "        Vector Action descriptions: , , , \n"
     ]
    }
   ],
   "source": [
    "import math\n",
    "import random\n",
    "import matplotlib\n",
    "import matplotlib.pyplot as plt\n",
    "from collections import namedtuple, deque\n",
    "from itertools import count\n",
    "\n",
    "import torch\n",
    "import torch.nn as nn\n",
    "import torch.optim as optim\n",
    "import torch.nn.functional as F\n",
    "\n",
    "from unityagents import UnityEnvironment\n",
    "\n",
    "environment = UnityEnvironment(file_name=\"Banana/Banana.exe\", no_graphics=True)\n",
    "\n",
    "is_ipython = 'inline' in matplotlib.get_backend()\n",
    "if is_ipython:\n",
    "    from IPython import display\n",
    "\n",
    "plt.ion()\n"
   ]
  },
  {
   "cell_type": "code",
   "execution_count": 2,
   "metadata": {},
   "outputs": [],
   "source": [
    "Transition = namedtuple('Transition',\n",
    "                        ('state', 'action', 'next_state', 'reward'))"
   ]
  },
  {
   "cell_type": "code",
   "execution_count": 3,
   "metadata": {},
   "outputs": [],
   "source": [
    "class ReplayMemory(object):\n",
    "\n",
    "    def __init__(self, capacity):\n",
    "        self.memory = deque([], maxlen=capacity)\n",
    "\n",
    "    def push(self, *args):\n",
    "        self.memory.append(Transition(*args))\n",
    "\n",
    "    def sample(self, batch_size):\n",
    "        return random.sample(self.memory, batch_size)\n",
    "\n",
    "    def __len__(self):\n",
    "        return len(self.memory)"
   ]
  },
  {
   "cell_type": "code",
   "execution_count": 15,
   "metadata": {},
   "outputs": [],
   "source": [
    "class DQN(nn.Module):\n",
    "\n",
    "    def __init__(self, n_observations, n_actions, n_neurons=128):\n",
    "        super(DQN, self).__init__()\n",
    "        self.layer1 = nn.Linear(n_observations, n_neurons)\n",
    "        self.layer2 = nn.Linear(n_neurons, n_neurons)\n",
    "        #self.layer2_2 = nn.Linear(n_neurons, n_neurons)\n",
    "        self.layer3 = nn.Linear(n_neurons, n_actions)\n",
    "\n",
    "    def forward(self, x):\n",
    "        x = F.relu(self.layer1(x))\n",
    "        x = F.relu(self.layer2(x))\n",
    "        #x = F.relu(self.layer2_2(x))\n",
    "        return self.layer3(x)"
   ]
  },
  {
   "cell_type": "code",
   "execution_count": 28,
   "metadata": {},
   "outputs": [],
   "source": [
    "class Agent():\n",
    "    def __init__(self, environment, batch_size=128, gamma=0.99, eps_start=0.9, eps_end=0.1, eps_decay=1000, tau=0.005, lr=1e-4, memory_size=10000, n_neurons=128, update_every=1):\n",
    "        self.env = environment\n",
    "        self.batch_size = batch_size\n",
    "        self.gamma = gamma\n",
    "        self.eps_start = eps_start\n",
    "        self.eps_end = eps_end\n",
    "        self.eps_decay = eps_decay\n",
    "        self.tau = tau\n",
    "        self.lr = lr\n",
    "        self.n_neurons = n_neurons\n",
    "        self.episode_rewards = []\n",
    "        self.device = torch.device(\"cuda\" if torch.cuda.is_available() else \"cpu\")\n",
    "        self.brain_name = self.env.brain_names[0]\n",
    "        self.brain = self.env.brains[self.brain_name]\n",
    "        self.update_every = update_every\n",
    "\n",
    "        info = self.env.reset(train_mode=True)[self.brain_name]\n",
    "        state = info.vector_observations[0]\n",
    "        n_actions = self.brain.vector_action_space_size\n",
    "        n_observations = len(state)\n",
    "\n",
    "        self.policy_net = DQN(n_observations, n_actions, self.n_neurons).to(self.device)\n",
    "        self.target_net = DQN(n_observations, n_actions, self.n_neurons).to(self.device)\n",
    "        self.target_net.load_state_dict(self.policy_net.state_dict())\n",
    "\n",
    "        self.optimizer = optim.AdamW(self.policy_net.parameters(), lr=self.lr, amsgrad=True)\n",
    "        self.memory = ReplayMemory(memory_size)\n",
    "\n",
    "        self.steps_done = 0\n",
    "\n",
    "\n",
    "    def select_action(self, state):\n",
    "        sample = random.random()\n",
    "        eps_threshold = self.eps_end + (self.eps_start - self.eps_end) * \\\n",
    "            math.exp(-1. * self.steps_done / self.eps_decay)\n",
    "        self.steps_done += 1\n",
    "        if sample > eps_threshold:\n",
    "            with torch.no_grad():\n",
    "                return self.policy_net(state).max(1)[1].view(1, 1)\n",
    "        else:\n",
    "            return torch.tensor([random.sample(range(0,4), 1)], device=self.device, dtype=torch.long)\n",
    "\n",
    "\n",
    "    def plot_durations(self, show_result=False):\n",
    "        plt.figure(1)\n",
    "        rewards_t = torch.tensor(self.episode_rewards, dtype=torch.float)\n",
    "        if show_result:\n",
    "            plt.title('Result')\n",
    "        else:\n",
    "            plt.clf()\n",
    "            plt.title('Training...')\n",
    "        plt.xlabel('Episode')\n",
    "        plt.ylabel('Reward')\n",
    "        plt.plot(rewards_t.numpy())\n",
    "        if len(rewards_t) >= 100:\n",
    "            means = rewards_t.unfold(0, 100, 1).mean(1).view(-1)\n",
    "            means = torch.cat((torch.zeros(99), means))\n",
    "            plt.plot(means.numpy())\n",
    "\n",
    "        plt.axhline(y=13, color='r')\n",
    "        plt.pause(0.001)\n",
    "        if is_ipython:\n",
    "            if not show_result:\n",
    "                display.display(plt.gcf())\n",
    "                display.clear_output(wait=True)\n",
    "            else:\n",
    "                display.display(plt.gcf())\n",
    "\n",
    "    def optimize_model(self):\n",
    "        if len(self.memory) < self.batch_size:\n",
    "            return\n",
    "        transitions = self.memory.sample(self.batch_size)\n",
    "        batch = Transition(*zip(*transitions))\n",
    "        non_final_mask = torch.tensor(tuple(map(lambda s: s is not None,\n",
    "                                            batch.next_state)), device=self.device, dtype=torch.bool)\n",
    "        non_final_next_states = torch.cat([s for s in batch.next_state\n",
    "                                                    if s is not None])\n",
    "        state_batch = torch.cat(batch.state)\n",
    "        current_batch = batch.action\n",
    "        action_batch = torch.cat(batch.action)\n",
    "        reward_batch = torch.cat(batch.reward)\n",
    "\n",
    "        state_action_values = self.policy_net(state_batch).gather(1, action_batch)\n",
    "\n",
    "        next_state_values = torch.zeros(self.batch_size, device=self.device)\n",
    "        with torch.no_grad():\n",
    "            next_state_values[non_final_mask] = self.target_net(non_final_next_states).max(1)[0]\n",
    "        expected_state_action_values = (next_state_values * self.gamma) + reward_batch\n",
    "\n",
    "        criterion = nn.SmoothL1Loss()\n",
    "        loss = criterion(state_action_values, expected_state_action_values.unsqueeze(1))\n",
    "\n",
    "        self.optimizer.zero_grad()\n",
    "        loss.backward()\n",
    "        torch.nn.utils.clip_grad_value_(self.policy_net.parameters(), 100)\n",
    "        self.optimizer.step()\n",
    "\n",
    "    def load(self, filename):\n",
    "        config = torch.load(filename, map_location=torch.device(\"cpu\").type)\n",
    "        self.policy_net.load_state_dict(config[\"policy_net_state_dict\"])\n",
    "        self.policy_net.to(self.device)\n",
    "        self.optimizer.load_state_dict(config[\"optimizer_state_dict\"])\n",
    "        self.batch_size = config[\"batch_size\"]\n",
    "        self.gamma = config[\"gamma\"]\n",
    "        self.eps_start = config[\"eps_start\"]\n",
    "        self.eps_end = config[\"eps_end\"]\n",
    "        self.eps_decay = config[\"eps_decay\"]\n",
    "        self.tau = config[\"tau\"]\n",
    "        self.episode_rewards = config[\"episode_rewards\"]\n",
    "        self.memory = config[\"memory\"]\n",
    "        self.lr = config[\"lr\"]\n",
    "        self.steps_done = config[\"steps_done\"]\n",
    "        self.n_neurons = config[\"n_neurons\"]\n",
    "        self.target_net.load_state_dict(self.policy_net.state_dict())\n",
    "        self.target_net.to(self.device)\n",
    "\n",
    "    def save(self, filename):\n",
    "        torch.save({\n",
    "                'policy_net_state_dict': self.policy_net.state_dict(),\n",
    "                'optimizer_state_dict': self.optimizer.state_dict(),\n",
    "                'batch_size': self.batch_size,\n",
    "                'gamma': self.gamma,\n",
    "                'eps_start': self.eps_start,\n",
    "                'eps_end': self.eps_end,\n",
    "                'eps_decay': self.eps_decay,\n",
    "                'tau': self.tau,\n",
    "                'episode_rewards': self.episode_rewards,\n",
    "                'memory': self.memory,\n",
    "                'steps_done': self.steps_done,\n",
    "                'lr': self.lr,\n",
    "                'n_neurons': self.n_neurons\n",
    "            }, filename)\n",
    "        \n",
    "    def train(self, iterations=1000):\n",
    "        for _ in range(iterations):\n",
    "            episode_reward = 0\n",
    "            info = self.env.reset(train_mode=True)[self.brain_name]\n",
    "            state = info.vector_observations[0]\n",
    "            state = torch.tensor(state, dtype=torch.float32, device=self.device).unsqueeze(0)\n",
    "            while True:\n",
    "                action = self.select_action(state)\n",
    "                info = self.env.step(int(action))[self.brain_name]\n",
    "                next_state = info.vector_observations[0]\n",
    "                reward = info.rewards[0]\n",
    "                done = info.local_done[0]\n",
    "                reward = torch.tensor([reward], device=self.device)\n",
    "                episode_reward += reward\n",
    "                next_state = torch.tensor(next_state, dtype=torch.float32, device=self.device).unsqueeze(0)\n",
    "\n",
    "                self.memory.push(state, action, next_state, reward)\n",
    "\n",
    "                state = next_state\n",
    "\n",
    "                if self.steps_done % self.update_every != 0 and not done:\n",
    "                    continue \n",
    "\n",
    "                self.optimize_model()\n",
    "\n",
    "                target_net_state_dict = self.target_net.state_dict()\n",
    "                policy_net_state_dict = self.policy_net.state_dict()\n",
    "                for key in policy_net_state_dict:\n",
    "                    target_net_state_dict[key] = policy_net_state_dict[key]*self.tau + target_net_state_dict[key]*(1-self.tau)\n",
    "                self.target_net.load_state_dict(target_net_state_dict)\n",
    "\n",
    "                if done:\n",
    "                    self.episode_rewards.append(episode_reward)\n",
    "                    self.plot_durations()\n",
    "                    break\n"
   ]
  },
  {
   "cell_type": "code",
   "execution_count": 29,
   "metadata": {},
   "outputs": [],
   "source": [
    "agent = Agent(environment, n_neurons=128, memory_size=10000, tau=1e-3, lr=5e-4, update_every=4)"
   ]
  },
  {
   "cell_type": "code",
   "execution_count": 30,
   "metadata": {},
   "outputs": [
    {
     "name": "stdout",
     "output_type": "stream",
     "text": [
      "Complete\n"
     ]
    },
    {
     "data": {
      "image/png": "[encoded data removed]",
      "text/plain": [
       "<Figure size 432x288 with 1 Axes>"
      ]
     },
     "metadata": {
      "needs_background": "light"
     },
     "output_type": "display_data"
    },
    {
     "data": {
      "text/plain": [
       "<Figure size 432x288 with 0 Axes>"
      ]
     },
     "metadata": {},
     "output_type": "display_data"
    },
    {
     "data": {
      "text/plain": [
       "<Figure size 432x288 with 0 Axes>"
      ]
     },
     "metadata": {},
     "output_type": "display_data"
    }
   ],
   "source": [
    "filename = \"model1.pth\"\n",
    "agent.load(filename)\n",
    "try:\n",
    "    agent.train(10)\n",
    "finally:\n",
    "    agent.save(filename)\n",
    "    print('Complete')\n",
    "    agent.plot_durations(show_result=True)\n",
    "    plt.ioff()\n",
    "    plt.show()"
   ]
  },
  {
   "cell_type": "code",
   "execution_count": 31,
   "metadata": {},
   "outputs": [],
   "source": [
    "environment.close()"
   ]
  }
 ],
 "metadata": {
  "kernelspec": {
   "display_name": "udacity",
   "language": "python",
   "name": "udacity"
  },
  "language_info": {
   "codemirror_mode": {
    "name": "ipython",
    "version": 3
   },
   "file_extension": ".py",
   "mimetype": "text/x-python",
   "name": "python",
   "nbconvert_exporter": "python",
   "pygments_lexer": "ipython3",
   "version": "3.6.13"
  },
  "orig_nbformat": 4
 },
 "nbformat": 4,
 "nbformat_minor": 2
}
